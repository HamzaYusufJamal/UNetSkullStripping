{
  "nbformat": 4,
  "nbformat_minor": 0,
  "metadata": {
    "colab": {
      "name": "SkullStrippingOriginal.ipynb",
      "provenance": [],
      "collapsed_sections": [],
      "machine_shape": "hm"
    },
    "kernelspec": {
      "display_name": "Python 3",
      "language": "python",
      "name": "python3"
    },
    "language_info": {
      "codemirror_mode": {
        "name": "ipython",
        "version": 3
      },
      "file_extension": ".py",
      "mimetype": "text/x-python",
      "name": "python",
      "nbconvert_exporter": "python",
      "pygments_lexer": "ipython3",
      "version": "3.7.6"
    }
  },
  "cells": [
    {
      "cell_type": "code",
      "metadata": {
        "colab_type": "code",
        "id": "ZK6qNcNllbCM",
        "colab": {
          "base_uri": "https://localhost:8080/",
          "height": 35
        },
        "outputId": "bf03404e-0259-445b-a7ef-290422e021f7"
      },
      "source": [
        "# Mounting to drive so it doesn't need my local storage\n",
        "'''\n",
        "from google.colab import drive\n",
        "drive.mount('/content/drive')\n",
        "'''"
      ],
      "execution_count": 1,
      "outputs": [
        {
          "output_type": "execute_result",
          "data": {
            "application/vnd.google.colaboratory.intrinsic+json": {
              "type": "string"
            },
            "text/plain": [
              "\"\\nfrom google.colab import drive\\ndrive.mount('/content/drive')\\n\""
            ]
          },
          "metadata": {
            "tags": []
          },
          "execution_count": 1
        }
      ]
    },
    {
      "cell_type": "code",
      "metadata": {
        "colab_type": "code",
        "id": "AjaeTrFeg94p",
        "colab": {}
      },
      "source": [
        "# Imports: tf for CNN, MaxPool, etc; os for file management; \n",
        "# numpy for array datatype/tf; nibabel for working with brain scan files;\n",
        "# tqdm for progress bar on for loop\n",
        "import tensorflow as tf\n",
        "import os\n",
        "import numpy as np\n",
        "import nibabel as nib\n",
        "from tqdm import tqdm\n",
        "import random"
      ],
      "execution_count": 2,
      "outputs": []
    },
    {
      "cell_type": "code",
      "metadata": {
        "colab_type": "code",
        "id": "LBjN16D7SN8f",
        "colab": {}
      },
      "source": [
        "# Setting some variables to represent info about the dataset \n",
        "# if using a different dataset, ideally all you would have to change is these variables\n",
        "IMG_WIDTH = 256\n",
        "IMG_HEIGHT= 256\n",
        "IMG_DEPTH = 192\n",
        "IMG_PATH = '/content/drive/My Drive/NFBS_Dataset'\n",
        "NUM_TRAIN_EX = 110\n",
        "NUM_TOTAL_EX = 125\n",
        "NUM_CHANNELS = 1\n",
        "C1_FEATURES = 32"
      ],
      "execution_count": 3,
      "outputs": []
    },
    {
      "cell_type": "code",
      "metadata": {
        "colab_type": "code",
        "id": "o4LCLuABhF_L",
        "colab": {}
      },
      "source": [
        "# Pulling the unique file names of each scan's folder\n",
        "train_ids = next(os.walk(IMG_PATH))[1][:NUM_TRAIN_EX]\n",
        "test_ids = next(os.walk(IMG_PATH))[1][NUM_TRAIN_EX:]"
      ],
      "execution_count": 4,
      "outputs": []
    },
    {
      "cell_type": "code",
      "metadata": {
        "id": "CsWs6sMj-UFi",
        "colab_type": "code",
        "colab": {}
      },
      "source": [
        "# Initializing X_train and Y_train\n",
        "X_train = np.zeros((len(train_ids), IMG_HEIGHT, IMG_WIDTH, IMG_DEPTH), dtype=np.float32)\n",
        "Y_train = np.zeros((len(train_ids), IMG_HEIGHT, IMG_WIDTH, IMG_DEPTH), dtype=np.float32)"
      ],
      "execution_count": 5,
      "outputs": []
    },
    {
      "cell_type": "code",
      "metadata": {
        "colab_type": "code",
        "id": "jlLDoRC89myI",
        "colab": {
          "base_uri": "https://localhost:8080/",
          "height": 33
        },
        "outputId": "a253d010-f28e-434b-ce95-ead273fec945"
      },
      "source": [
        "# Loading examples from data file to array\n",
        "\n",
        "for n in tqdm(range(NUM_TRAIN_EX)): # tqdm is for the progress bar\n",
        "  id = train_ids[n]\n",
        "  \n",
        "  trainx_path = IMG_PATH + '/' + id + '/sub-' + id + '_ses-NFB3_T1w.nii.gz'\n",
        "  imgx = nib.load(trainx_path)\n",
        "  X_train[n][:][:][:] = imgx.get_fdata()\n",
        "\n",
        "  trainy_path = IMG_PATH + '/' + id + '/sub-' + id + '_ses-NFB3_T1w_brainmask.nii.gz'\n",
        "  imgy = nib.load(trainy_path)\n",
        "  Y_train[n][:][:][:] = imgy.get_fdata()"
      ],
      "execution_count": 6,
      "outputs": [
        {
          "output_type": "stream",
          "text": [
            "100%|██████████| 110/110 [01:29<00:00,  1.23it/s]\n"
          ],
          "name": "stderr"
        }
      ]
    },
    {
      "cell_type": "code",
      "metadata": {
        "colab_type": "code",
        "id": "KNH5CrIGM8g7",
        "colab": {
          "base_uri": "https://localhost:8080/",
          "height": 33
        },
        "outputId": "8cc0d241-3e88-4fe5-e561-0cf997f7c2d6"
      },
      "source": [
        "X_temp = np.zeros((NUM_TRAIN_EX*IMG_DEPTH, IMG_HEIGHT, IMG_WIDTH), dtype=np.float32)\n",
        "Y_temp = np.zeros((NUM_TRAIN_EX*IMG_DEPTH, IMG_HEIGHT, IMG_WIDTH), dtype=np.float32)\n",
        "\n",
        "for n in tqdm(range(NUM_TRAIN_EX)):\n",
        "    for i in range(IMG_DEPTH):\n",
        "      X_temp[(IMG_DEPTH*n) + i] = X_train[n, :, :, i]\n",
        "      Y_temp[(IMG_DEPTH*n) + i] = Y_train[n, :, :, i]"
      ],
      "execution_count": 7,
      "outputs": [
        {
          "output_type": "stream",
          "text": [
            "100%|██████████| 110/110 [00:27<00:00,  4.05it/s]\n"
          ],
          "name": "stderr"
        }
      ]
    },
    {
      "cell_type": "code",
      "metadata": {
        "id": "Q_uHg65_rTxv",
        "colab_type": "code",
        "colab": {}
      },
      "source": [
        "X_train = X_temp\n",
        "Y_train = Y_temp"
      ],
      "execution_count": 8,
      "outputs": []
    },
    {
      "cell_type": "code",
      "metadata": {
        "colab_type": "code",
        "id": "AfdNaXLVBDwS",
        "colab": {
          "base_uri": "https://localhost:8080/",
          "height": 119
        },
        "outputId": "fef2ca8d-a048-420f-cc48-773da03642fb"
      },
      "source": [
        "# Pooling path 3D\n",
        "'''\n",
        "input_layer = tf.keras.layers.Input((IMG_WIDTH, IMG_HEIGHT, IMG_DEPTH, NUM_CHANNELS))\n",
        "\n",
        "c1 = tf.keras.layers.Conv3D(C1_FEATURES, (3,3,3), activation='relu', kernel_initializer='he_normal', padding='same')(input_layer)\n",
        "d1 = tf.keras.layers.Dropout(0.1)(c1)\n",
        "c1 = tf.keras.layers.Conv3D(C1_FEATURES, (3,3,3), activation='relu', kernel_initializer='he_normal', padding='same')(d1)\n",
        "p1 = tf.keras.layers.MaxPool3D((2,2,2))(c1)\n",
        "\n",
        "c2 = tf.keras.layers.Conv3D(C1_FEATURES*2, (3,3,3), activation='relu', kernel_initializer='he_normal', padding='same')(p1)\n",
        "d2 = tf.keras.layers.Dropout(0.1)(c2)\n",
        "c2 = tf.keras.layers.Conv3D(C1_FEATURES*2, (3,3,3), activation='relu', kernel_initializer='he_normal', padding='same')(d2)\n",
        "p2 = tf.keras.layers.MaxPool3D((2,2,2))(c2)\n",
        "\n",
        "c3 = tf.keras.layers.Conv3D(C1_FEATURES*4, (3,3,3), activation='relu', kernel_initializer='he_normal', padding='same')(p2)\n",
        "d3 = tf.keras.layers.Dropout(0.1)(c3)\n",
        "c3 = tf.keras.layers.Conv3D(C1_FEATURES*4, (3,3,3), activation='relu', kernel_initializer='he_normal', padding='same')(d3)\n",
        "p3 = tf.keras.layers.MaxPool3D((2,2,2))(c3)\n",
        "\n",
        "c4 = tf.keras.layers.Conv3D(C1_FEATURES*8, (3,3,3), activation='relu', kernel_initializer='he_normal', padding='same')(p3)\n",
        "d4 = tf.keras.layers.Dropout(0.1)(c4)\n",
        "c4 = tf.keras.layers.Conv3D(C1_FEATURES*8, (3,3,3), activation='relu', kernel_initializer='he_normal', padding='same')(d4)\n",
        "p4 = tf.keras.layers.MaxPool3D((2,2,2))(c4)\n",
        "\n",
        "c5 = tf.keras.layers.Conv3D(C1_FEATURES*16, (3,3,3), activation='relu', kernel_initializer='he_normal', padding='same')(p4)\n",
        "d5 = tf.keras.layers.Dropout(0.1)(c5)\n",
        "c5 = tf.keras.layers.Conv3D(C1_FEATURES*16, (3,3,3), activation='relu', kernel_initializer='he_normal', padding='same')(d5)\n",
        "'''"
      ],
      "execution_count": 9,
      "outputs": [
        {
          "output_type": "execute_result",
          "data": {
            "application/vnd.google.colaboratory.intrinsic+json": {
              "type": "string"
            },
            "text/plain": [
              "\"\\ninput_layer = tf.keras.layers.Input((IMG_WIDTH, IMG_HEIGHT, IMG_DEPTH, NUM_CHANNELS))\\n\\nc1 = tf.keras.layers.Conv3D(C1_FEATURES, (3,3,3), activation='relu', kernel_initializer='he_normal', padding='same')(input_layer)\\nd1 = tf.keras.layers.Dropout(0.1)(c1)\\nc1 = tf.keras.layers.Conv3D(C1_FEATURES, (3,3,3), activation='relu', kernel_initializer='he_normal', padding='same')(d1)\\np1 = tf.keras.layers.MaxPool3D((2,2,2))(c1)\\n\\nc2 = tf.keras.layers.Conv3D(C1_FEATURES*2, (3,3,3), activation='relu', kernel_initializer='he_normal', padding='same')(p1)\\nd2 = tf.keras.layers.Dropout(0.1)(c2)\\nc2 = tf.keras.layers.Conv3D(C1_FEATURES*2, (3,3,3), activation='relu', kernel_initializer='he_normal', padding='same')(d2)\\np2 = tf.keras.layers.MaxPool3D((2,2,2))(c2)\\n\\nc3 = tf.keras.layers.Conv3D(C1_FEATURES*4, (3,3,3), activation='relu', kernel_initializer='he_normal', padding='same')(p2)\\nd3 = tf.keras.layers.Dropout(0.1)(c3)\\nc3 = tf.keras.layers.Conv3D(C1_FEATURES*4, (3,3,3), activation='relu', kernel_initializer='he_normal', padding='same')(d3)\\np3 = tf.keras.layers.MaxPool3D((2,2,2))(c3)\\n\\nc4 = tf.keras.layers.Conv3D(C1_FEATURES*8, (3,3,3), activation='relu', kernel_initializer='he_normal', padding='same')(p3)\\nd4 = tf.keras.layers.Dropout(0.1)(c4)\\nc4 = tf.keras.layers.Conv3D(C1_FEATURES*8, (3,3,3), activation='relu', kernel_initializer='he_normal', padding='same')(d4)\\np4 = tf.keras.layers.MaxPool3D((2,2,2))(c4)\\n\\nc5 = tf.keras.layers.Conv3D(C1_FEATURES*16, (3,3,3), activation='relu', kernel_initializer='he_normal', padding='same')(p4)\\nd5 = tf.keras.layers.Dropout(0.1)(c5)\\nc5 = tf.keras.layers.Conv3D(C1_FEATURES*16, (3,3,3), activation='relu', kernel_initializer='he_normal', padding='same')(d5)\\n\""
            ]
          },
          "metadata": {
            "tags": []
          },
          "execution_count": 9
        }
      ]
    },
    {
      "cell_type": "code",
      "metadata": {
        "colab_type": "code",
        "id": "543QPGpLwVOF",
        "colab": {
          "base_uri": "https://localhost:8080/",
          "height": 119
        },
        "outputId": "171bfd31-6ba1-4451-f360-cb8e8cac9b39"
      },
      "source": [
        "# Upsampling path 3D\n",
        "'''\n",
        "u6 = tf.keras.layers.Conv3DTranspose(C1_FEATURES*8, (2,2,2), strides=(2,2,2), padding='same')(c5)\n",
        "u6 = tf.keras.layers.concatenate([c4, u6])\n",
        "c6 = tf.keras.layers.Conv3D(C1_FEATURES*8, (3,3,3), activation='relu', kernel_initializer='he_normal', padding='same')(u6)\n",
        "d6 = tf.keras.layers.Dropout(0.1)(c6)\n",
        "c6 = tf.keras.layers.Conv3D(C1_FEATURES*8, (3,3,3), activation='relu', kernel_initializer='he_normal', padding='same')(d6)\n",
        "\n",
        "u7 = tf.keras.layers.Conv3DTranspose(C1_FEATURES*4, (2,2,2), strides=(2,2,2), padding='same')(c6)\n",
        "u7 = tf.keras.layers.concatenate([c3, u7])\n",
        "c7 = tf.keras.layers.Conv3D(C1_FEATURES*4, (3,3,3), activation='relu', kernel_initializer='he_normal', padding='same')(u7)\n",
        "d7 = tf.keras.layers.Dropout(0.1)(c7)\n",
        "c7 = tf.keras.layers.Conv3D(C1_FEATURES*4, (3,3,3), activation='relu', kernel_initializer='he_normal', padding='same')(d7)\n",
        "\n",
        "u8 = tf.keras.layers.Conv3DTranspose(C1_FEATURES*2, (2,2,2), strides=(2,2,2), padding='same')(c7)\n",
        "u8 = tf.keras.layers.concatenate([c2, u8])\n",
        "c8 = tf.keras.layers.Conv3D(C1_FEATURES*2, (3,3,3), activation='relu', kernel_initializer='he_normal', padding='same')(u8)\n",
        "d8 = tf.keras.layers.Dropout(0.1)(c8)\n",
        "c8 = tf.keras.layers.Conv3D(C1_FEATURES*2, (3,3,3), activation='relu', kernel_initializer='he_normal', padding='same')(d8)\n",
        "\n",
        "u9 = tf.keras.layers.Conv3DTranspose(C1_FEATURES, (2,2,2), strides=(2,2,2), padding='same')(c8)\n",
        "u9 = tf.keras.layers.concatenate([c1, u9])\n",
        "c9 = tf.keras.layers.Conv3D(C1_FEATURES, (3,3,3), activation='relu', kernel_initializer='he_normal', padding='same')(u9)\n",
        "d9 = tf.keras.layers.Dropout(0.1)(c9)\n",
        "c9 = tf.keras.layers.Conv3D(C1_FEATURES, (3,3,3), activation='relu', kernel_initializer='he_normal', padding='same')(d9)\n",
        "\n",
        "outputs = tf.keras.layers.Conv3D(1, (1,1,1), activation='sigmoid')(c9)\n",
        "'''"
      ],
      "execution_count": 10,
      "outputs": [
        {
          "output_type": "execute_result",
          "data": {
            "application/vnd.google.colaboratory.intrinsic+json": {
              "type": "string"
            },
            "text/plain": [
              "\"\\nu6 = tf.keras.layers.Conv3DTranspose(C1_FEATURES*8, (2,2,2), strides=(2,2,2), padding='same')(c5)\\nu6 = tf.keras.layers.concatenate([c4, u6])\\nc6 = tf.keras.layers.Conv3D(C1_FEATURES*8, (3,3,3), activation='relu', kernel_initializer='he_normal', padding='same')(u6)\\nd6 = tf.keras.layers.Dropout(0.1)(c6)\\nc6 = tf.keras.layers.Conv3D(C1_FEATURES*8, (3,3,3), activation='relu', kernel_initializer='he_normal', padding='same')(d6)\\n\\nu7 = tf.keras.layers.Conv3DTranspose(C1_FEATURES*4, (2,2,2), strides=(2,2,2), padding='same')(c6)\\nu7 = tf.keras.layers.concatenate([c3, u7])\\nc7 = tf.keras.layers.Conv3D(C1_FEATURES*4, (3,3,3), activation='relu', kernel_initializer='he_normal', padding='same')(u7)\\nd7 = tf.keras.layers.Dropout(0.1)(c7)\\nc7 = tf.keras.layers.Conv3D(C1_FEATURES*4, (3,3,3), activation='relu', kernel_initializer='he_normal', padding='same')(d7)\\n\\nu8 = tf.keras.layers.Conv3DTranspose(C1_FEATURES*2, (2,2,2), strides=(2,2,2), padding='same')(c7)\\nu8 = tf.keras.layers.concatenate([c2, u8])\\nc8 = tf.keras.layers.Conv3D(C1_FEATURES*2, (3,3,3), activation='relu', kernel_initializer='he_normal', padding='same')(u8)\\nd8 = tf.keras.layers.Dropout(0.1)(c8)\\nc8 = tf.keras.layers.Conv3D(C1_FEATURES*2, (3,3,3), activation='relu', kernel_initializer='he_normal', padding='same')(d8)\\n\\nu9 = tf.keras.layers.Conv3DTranspose(C1_FEATURES, (2,2,2), strides=(2,2,2), padding='same')(c8)\\nu9 = tf.keras.layers.concatenate([c1, u9])\\nc9 = tf.keras.layers.Conv3D(C1_FEATURES, (3,3,3), activation='relu', kernel_initializer='he_normal', padding='same')(u9)\\nd9 = tf.keras.layers.Dropout(0.1)(c9)\\nc9 = tf.keras.layers.Conv3D(C1_FEATURES, (3,3,3), activation='relu', kernel_initializer='he_normal', padding='same')(d9)\\n\\noutputs = tf.keras.layers.Conv3D(1, (1,1,1), activation='sigmoid')(c9)\\n\""
            ]
          },
          "metadata": {
            "tags": []
          },
          "execution_count": 10
        }
      ]
    },
    {
      "cell_type": "code",
      "metadata": {
        "id": "v0NjlAW7oFnE",
        "colab_type": "code",
        "colab": {}
      },
      "source": [
        "# Pooling Layer 2D\n",
        "\n",
        "input_layer = tf.keras.layers.Input((IMG_WIDTH, IMG_HEIGHT, NUM_CHANNELS))\n",
        "\n",
        "c1 = tf.keras.layers.Conv2D(C1_FEATURES, (3,3), activation='relu', kernel_initializer='he_normal', padding='same')(input_layer)\n",
        "c1 = tf.keras.layers.Conv2D(C1_FEATURES, (3,3), activation='relu', kernel_initializer='he_normal', padding='same')(c1)\n",
        "p1 = tf.keras.layers.MaxPool2D((2,2))(c1)\n",
        "\n",
        "c2 = tf.keras.layers.Conv2D(C1_FEATURES*2, (3,3), activation='relu', kernel_initializer='he_normal', padding='same')(p1)\n",
        "d2 = tf.keras.layers.Dropout(0.1)(c2)\n",
        "c2 = tf.keras.layers.Conv2D(C1_FEATURES*2, (3,3), activation='relu', kernel_initializer='he_normal', padding='same')(d2)\n",
        "p2 = tf.keras.layers.MaxPool2D((2,2))(c2)\n",
        "\n",
        "c3 = tf.keras.layers.Conv2D(C1_FEATURES*4, (3,3), activation='relu', kernel_initializer='he_normal', padding='same')(p2)\n",
        "c3 = tf.keras.layers.Conv2D(C1_FEATURES*4, (3,3), activation='relu', kernel_initializer='he_normal', padding='same')(c3)\n",
        "p3 = tf.keras.layers.MaxPool2D((2,2))(c3)\n",
        "\n",
        "c4 = tf.keras.layers.Conv2D(C1_FEATURES*8, (3,3), activation='relu', kernel_initializer='he_normal', padding='same')(p3)\n",
        "d4 = tf.keras.layers.Dropout(0.1)(c4)\n",
        "c4 = tf.keras.layers.Conv2D(C1_FEATURES*8, (3,3), activation='relu', kernel_initializer='he_normal', padding='same')(d4)\n",
        "p4 = tf.keras.layers.MaxPool2D((2,2))(c4)\n",
        "\n",
        "c5 = tf.keras.layers.Conv2D(C1_FEATURES*16, (3,3), activation='relu', kernel_initializer='he_normal', padding='same')(p4)\n",
        "c5 = tf.keras.layers.Conv2D(C1_FEATURES*16, (3,3), activation='relu', kernel_initializer='he_normal', padding='same')(c5)"
      ],
      "execution_count": 11,
      "outputs": []
    },
    {
      "cell_type": "code",
      "metadata": {
        "id": "TP92QbuBnuN2",
        "colab_type": "code",
        "colab": {}
      },
      "source": [
        "# Upsampling Path 2D\n",
        "\n",
        "u6 = tf.keras.layers.Conv2DTranspose(C1_FEATURES*8, (2,2), strides=(2,2), padding='same')(c5)\n",
        "u6 = tf.keras.layers.concatenate([c4, u6])\n",
        "c6 = tf.keras.layers.Conv2D(C1_FEATURES*8, (3,3), activation='relu', kernel_initializer='he_normal', padding='same')(u6)\n",
        "d6 = tf.keras.layers.Dropout(0.1)(c6)\n",
        "c6 = tf.keras.layers.Conv2D(C1_FEATURES*8, (3,3), activation='relu', kernel_initializer='he_normal', padding='same')(d6)\n",
        "\n",
        "u7 = tf.keras.layers.Conv2DTranspose(C1_FEATURES*4, (2,2), strides=(2,2), padding='same')(c6)\n",
        "u7 = tf.keras.layers.concatenate([c3, u7])\n",
        "c7 = tf.keras.layers.Conv2D(C1_FEATURES*4, (3,3), activation='relu', kernel_initializer='he_normal', padding='same')(u7)\n",
        "c7 = tf.keras.layers.Conv2D(C1_FEATURES*4, (3,3), activation='relu', kernel_initializer='he_normal', padding='same')(c7)\n",
        "\n",
        "u8 = tf.keras.layers.Conv2DTranspose(C1_FEATURES*2, (2,2), strides=(2,2), padding='same')(c7)\n",
        "u8 = tf.keras.layers.concatenate([c2, u8])\n",
        "c8 = tf.keras.layers.Conv2D(C1_FEATURES*2, (3,3), activation='relu', kernel_initializer='he_normal', padding='same')(u8)\n",
        "d8 = tf.keras.layers.Dropout(0.1)(c8)\n",
        "c8 = tf.keras.layers.Conv2D(C1_FEATURES*2, (3,3), activation='relu', kernel_initializer='he_normal', padding='same')(d8)\n",
        "\n",
        "u9 = tf.keras.layers.Conv2DTranspose(C1_FEATURES, (2,2), strides=(2,2), padding='same')(c8)\n",
        "u9 = tf.keras.layers.concatenate([c1, u9])\n",
        "c9 = tf.keras.layers.Conv2D(C1_FEATURES, (3,3), activation='relu', kernel_initializer='he_normal', padding='same')(u9)\n",
        "c9 = tf.keras.layers.Conv2D(C1_FEATURES, (3,3), activation='relu', kernel_initializer='he_normal', padding='same')(c9)\n",
        "\n",
        "outputs = tf.keras.layers.Conv2D(1, (1,1), activation='sigmoid')(c9)"
      ],
      "execution_count": 12,
      "outputs": []
    },
    {
      "cell_type": "code",
      "metadata": {
        "id": "QRp0hYbkZU4Y",
        "colab_type": "code",
        "colab": {
          "base_uri": "https://localhost:8080/",
          "height": 1000
        },
        "outputId": "f50eebfa-543a-4715-8d40-5a4a70646ecd"
      },
      "source": [
        "model = tf.keras.Model(inputs=input_layer, outputs=outputs)\n",
        "model.compile(optimizer='adam', loss='MeanSquaredError', metrics=['accuracy'])\n",
        "model.summary()"
      ],
      "execution_count": 13,
      "outputs": [
        {
          "output_type": "stream",
          "text": [
            "Model: \"functional_1\"\n",
            "__________________________________________________________________________________________________\n",
            "Layer (type)                    Output Shape         Param #     Connected to                     \n",
            "==================================================================================================\n",
            "input_1 (InputLayer)            [(None, 256, 256, 1) 0                                            \n",
            "__________________________________________________________________________________________________\n",
            "conv2d (Conv2D)                 (None, 256, 256, 32) 320         input_1[0][0]                    \n",
            "__________________________________________________________________________________________________\n",
            "conv2d_1 (Conv2D)               (None, 256, 256, 32) 9248        conv2d[0][0]                     \n",
            "__________________________________________________________________________________________________\n",
            "max_pooling2d (MaxPooling2D)    (None, 128, 128, 32) 0           conv2d_1[0][0]                   \n",
            "__________________________________________________________________________________________________\n",
            "conv2d_2 (Conv2D)               (None, 128, 128, 64) 18496       max_pooling2d[0][0]              \n",
            "__________________________________________________________________________________________________\n",
            "dropout (Dropout)               (None, 128, 128, 64) 0           conv2d_2[0][0]                   \n",
            "__________________________________________________________________________________________________\n",
            "conv2d_3 (Conv2D)               (None, 128, 128, 64) 36928       dropout[0][0]                    \n",
            "__________________________________________________________________________________________________\n",
            "max_pooling2d_1 (MaxPooling2D)  (None, 64, 64, 64)   0           conv2d_3[0][0]                   \n",
            "__________________________________________________________________________________________________\n",
            "conv2d_4 (Conv2D)               (None, 64, 64, 128)  73856       max_pooling2d_1[0][0]            \n",
            "__________________________________________________________________________________________________\n",
            "conv2d_5 (Conv2D)               (None, 64, 64, 128)  147584      conv2d_4[0][0]                   \n",
            "__________________________________________________________________________________________________\n",
            "max_pooling2d_2 (MaxPooling2D)  (None, 32, 32, 128)  0           conv2d_5[0][0]                   \n",
            "__________________________________________________________________________________________________\n",
            "conv2d_6 (Conv2D)               (None, 32, 32, 256)  295168      max_pooling2d_2[0][0]            \n",
            "__________________________________________________________________________________________________\n",
            "dropout_1 (Dropout)             (None, 32, 32, 256)  0           conv2d_6[0][0]                   \n",
            "__________________________________________________________________________________________________\n",
            "conv2d_7 (Conv2D)               (None, 32, 32, 256)  590080      dropout_1[0][0]                  \n",
            "__________________________________________________________________________________________________\n",
            "max_pooling2d_3 (MaxPooling2D)  (None, 16, 16, 256)  0           conv2d_7[0][0]                   \n",
            "__________________________________________________________________________________________________\n",
            "conv2d_8 (Conv2D)               (None, 16, 16, 512)  1180160     max_pooling2d_3[0][0]            \n",
            "__________________________________________________________________________________________________\n",
            "conv2d_9 (Conv2D)               (None, 16, 16, 512)  2359808     conv2d_8[0][0]                   \n",
            "__________________________________________________________________________________________________\n",
            "conv2d_transpose (Conv2DTranspo (None, 32, 32, 256)  524544      conv2d_9[0][0]                   \n",
            "__________________________________________________________________________________________________\n",
            "concatenate (Concatenate)       (None, 32, 32, 512)  0           conv2d_7[0][0]                   \n",
            "                                                                 conv2d_transpose[0][0]           \n",
            "__________________________________________________________________________________________________\n",
            "conv2d_10 (Conv2D)              (None, 32, 32, 256)  1179904     concatenate[0][0]                \n",
            "__________________________________________________________________________________________________\n",
            "dropout_2 (Dropout)             (None, 32, 32, 256)  0           conv2d_10[0][0]                  \n",
            "__________________________________________________________________________________________________\n",
            "conv2d_11 (Conv2D)              (None, 32, 32, 256)  590080      dropout_2[0][0]                  \n",
            "__________________________________________________________________________________________________\n",
            "conv2d_transpose_1 (Conv2DTrans (None, 64, 64, 128)  131200      conv2d_11[0][0]                  \n",
            "__________________________________________________________________________________________________\n",
            "concatenate_1 (Concatenate)     (None, 64, 64, 256)  0           conv2d_5[0][0]                   \n",
            "                                                                 conv2d_transpose_1[0][0]         \n",
            "__________________________________________________________________________________________________\n",
            "conv2d_12 (Conv2D)              (None, 64, 64, 128)  295040      concatenate_1[0][0]              \n",
            "__________________________________________________________________________________________________\n",
            "conv2d_13 (Conv2D)              (None, 64, 64, 128)  147584      conv2d_12[0][0]                  \n",
            "__________________________________________________________________________________________________\n",
            "conv2d_transpose_2 (Conv2DTrans (None, 128, 128, 64) 32832       conv2d_13[0][0]                  \n",
            "__________________________________________________________________________________________________\n",
            "concatenate_2 (Concatenate)     (None, 128, 128, 128 0           conv2d_3[0][0]                   \n",
            "                                                                 conv2d_transpose_2[0][0]         \n",
            "__________________________________________________________________________________________________\n",
            "conv2d_14 (Conv2D)              (None, 128, 128, 64) 73792       concatenate_2[0][0]              \n",
            "__________________________________________________________________________________________________\n",
            "dropout_3 (Dropout)             (None, 128, 128, 64) 0           conv2d_14[0][0]                  \n",
            "__________________________________________________________________________________________________\n",
            "conv2d_15 (Conv2D)              (None, 128, 128, 64) 36928       dropout_3[0][0]                  \n",
            "__________________________________________________________________________________________________\n",
            "conv2d_transpose_3 (Conv2DTrans (None, 256, 256, 32) 8224        conv2d_15[0][0]                  \n",
            "__________________________________________________________________________________________________\n",
            "concatenate_3 (Concatenate)     (None, 256, 256, 64) 0           conv2d_1[0][0]                   \n",
            "                                                                 conv2d_transpose_3[0][0]         \n",
            "__________________________________________________________________________________________________\n",
            "conv2d_16 (Conv2D)              (None, 256, 256, 32) 18464       concatenate_3[0][0]              \n",
            "__________________________________________________________________________________________________\n",
            "conv2d_17 (Conv2D)              (None, 256, 256, 32) 9248        conv2d_16[0][0]                  \n",
            "__________________________________________________________________________________________________\n",
            "conv2d_18 (Conv2D)              (None, 256, 256, 1)  33          conv2d_17[0][0]                  \n",
            "==================================================================================================\n",
            "Total params: 7,759,521\n",
            "Trainable params: 7,759,521\n",
            "Non-trainable params: 0\n",
            "__________________________________________________________________________________________________\n"
          ],
          "name": "stdout"
        }
      ]
    },
    {
      "cell_type": "code",
      "metadata": {
        "id": "PSGrzW2jaU_H",
        "colab_type": "code",
        "colab": {
          "base_uri": "https://localhost:8080/",
          "height": 33
        },
        "outputId": "d8745eb4-a91c-488f-d8f4-6b7d0a5d7ad8"
      },
      "source": [
        "results = model.fit(X_train, Y_train, batch_size=16, validation_split=0.2, epochs=1)"
      ],
      "execution_count": 14,
      "outputs": [
        {
          "output_type": "stream",
          "text": [
            "1056/1056 [==============================] - 16088s 15s/step - loss: 0.1021 - accuracy: 0.8978 - val_loss: 0.1018 - val_accuracy: 0.8982\n"
          ],
          "name": "stdout"
        }
      ]
    }
  ]
}